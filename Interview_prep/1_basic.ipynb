{
 "cells": [
  {
   "cell_type": "markdown",
   "metadata": {},
   "source": [
    "# Topics \n",
    "<ol>\n",
    "<li>Range xrange\n",
    "<li>dict comprehension - fromkeys\n",
    "<li>sorting in python\n",
    "\n",
    "</ol>"
   ]
  },
  {
   "cell_type": "markdown",
   "metadata": {},
   "source": [
    "### Range and Xrange \n"
   ]
  },
  {
   "cell_type": "markdown",
   "metadata": {},
   "source": [
    "range()\n",
    "<li>Returns a list of integers.\n",
    "<li>Execution speed is slower\n",
    "<li>Takes more memory as it keeps the entire list of elements in memory.\n",
    "<li>All arithmetic operations can be performed as it returns a list.\n",
    "<li>In python 3, xrange() is not supported."
   ]
  },
  {
   "cell_type": "markdown",
   "metadata": {},
   "source": [
    "xrange()\n",
    "<li>Returns a generator object.\n",
    "<li>Execution speed is faster.\n",
    "<li>Takes less memory as it keeps only one element at a time in memory.\n",
    "<li>Such operations cannot be performed on xrange().\n",
    "<li>In python 2, xrange() is used to iterate in for loops."
   ]
  },
  {
   "cell_type": "code",
   "execution_count": 1,
   "metadata": {},
   "outputs": [],
   "source": [
    "import sys "
   ]
  },
  {
   "cell_type": "code",
   "execution_count": 4,
   "metadata": {},
   "outputs": [
    {
     "name": "stdout",
     "output_type": "stream",
     "text": [
      "range(0, 10) is 48\n"
     ]
    }
   ],
   "source": [
    "Range = range(0,10) \n",
    "print(f'{Range} is {sys.getsizeof(Range)}')"
   ]
  },
  {
   "cell_type": "code",
   "execution_count": null,
   "metadata": {},
   "outputs": [],
   "source": [
    "X_Range = xrange(0,10) \n",
    "print(f'{X_Range} is {sys.getsizeof(X_Range)}')"
   ]
  },
  {
   "cell_type": "markdown",
   "metadata": {},
   "source": [
    "## Dict Comprehension "
   ]
  },
  {
   "cell_type": "code",
   "execution_count": 7,
   "metadata": {},
   "outputs": [],
   "source": [
    "# Lists to represent keys and values\n",
    "keys = ['a','b','c','d','e']\n",
    "values = [1,2,3,4,5]  "
   ]
  },
  {
   "cell_type": "code",
   "execution_count": 8,
   "metadata": {},
   "outputs": [
    {
     "data": {
      "text/plain": [
       "{'a': 1, 'b': 2, 'c': 3, 'd': 4, 'e': 5}"
      ]
     },
     "execution_count": 8,
     "metadata": {},
     "output_type": "execute_result"
    }
   ],
   "source": [
    "dict_1={k:v for (k,v) in zip(keys, values)}\n",
    "dict_1"
   ]
  },
  {
   "cell_type": "code",
   "execution_count": 20,
   "metadata": {},
   "outputs": [
    {
     "data": {
      "text/plain": [
       "{1: 1, 2: 4, 3: 9, 4: 16, 5: 25, 6: 36}"
      ]
     },
     "execution_count": 20,
     "metadata": {},
     "output_type": "execute_result"
    }
   ],
   "source": [
    "dict_4 = {x:x**2 for x in [1,2,3,4,5,6]}\n",
    "dict_4"
   ]
  },
  {
   "cell_type": "code",
   "execution_count": 23,
   "metadata": {},
   "outputs": [
    {
     "data": {
      "text/plain": [
       "{2: 4, 4: 16, 6: 36}"
      ]
     },
     "execution_count": 23,
     "metadata": {},
     "output_type": "execute_result"
    }
   ],
   "source": [
    "dict_6 = {x:x**2 for x in [1,2,3,4,5,6] if (x%2 ==0)}\n",
    "dict_6"
   ]
  },
  {
   "cell_type": "code",
   "execution_count": 22,
   "metadata": {},
   "outputs": [
    {
     "data": {
      "text/plain": [
       "{'S': 'SSS', 't': 'ttt', 'r': 'rrr', 'i': 'iii', 'n': 'nnn', 'g': 'ggg'}"
      ]
     },
     "execution_count": 22,
     "metadata": {},
     "output_type": "execute_result"
    }
   ],
   "source": [
    "dict_5 = {x:x*3 for x in 'String'}\n",
    "dict_5"
   ]
  },
  {
   "cell_type": "code",
   "execution_count": 24,
   "metadata": {},
   "outputs": [
    {
     "data": {
      "text/plain": [
       "{'apple': 1, 'banana': 2}"
      ]
     },
     "execution_count": 24,
     "metadata": {},
     "output_type": "execute_result"
    }
   ],
   "source": [
    "example_dict = dict(apple=1, banana=2)\n",
    "example_dict"
   ]
  },
  {
   "cell_type": "code",
   "execution_count": 25,
   "metadata": {},
   "outputs": [
    {
     "data": {
      "text/plain": [
       "{1: 'mango', 2: 'pawpaw'}"
      ]
     },
     "execution_count": 25,
     "metadata": {},
     "output_type": "execute_result"
    }
   ],
   "source": [
    "example_dict_2 = dict([(1, 'mango'), (2, 'pawpaw')])\n",
    "example_dict_2\n"
   ]
  },
  {
   "cell_type": "markdown",
   "metadata": {},
   "source": [
    "## fromkeys\n",
    "<li>Syntax : fromkeys(seq, val)\n",
    "<li>seq : The sequence to be transformed into a dictionary.\n",
    "<li>val : Initial values that need to be assigned to the generated keys. Defaults to None."
   ]
  },
  {
   "cell_type": "code",
   "execution_count": 12,
   "metadata": {},
   "outputs": [
    {
     "data": {
      "text/plain": [
       "{0: True, 1: True, 2: True, 3: True, 4: True}"
      ]
     },
     "execution_count": 12,
     "metadata": {},
     "output_type": "execute_result"
    }
   ],
   "source": [
    "\n",
    "dict_2 = dict.fromkeys(range(5), True)\n",
    "dict_2"
   ]
  },
  {
   "cell_type": "code",
   "execution_count": 19,
   "metadata": {},
   "outputs": [
    {
     "data": {
      "text/plain": [
       "{0: [], 1: [], 2: [], 3: [], 4: []}"
      ]
     },
     "execution_count": 19,
     "metadata": {},
     "output_type": "execute_result"
    }
   ],
   "source": [
    "dict_3 = dict.fromkeys(range(5), [])\n",
    "dict_3"
   ]
  },
  {
   "cell_type": "code",
   "execution_count": 15,
   "metadata": {},
   "outputs": [],
   "source": [
    "seq = {'a', 'b', 'c', 'd', 'e'}\n",
    "lis1 = [2, 3]"
   ]
  },
  {
   "cell_type": "code",
   "execution_count": 18,
   "metadata": {},
   "outputs": [
    {
     "name": "stdout",
     "output_type": "stream",
     "text": [
      "The newly created dict with list values : {'a': [2, 3], 'd': [2, 3], 'b': [2, 3], 'e': [2, 3], 'c': [2, 3]}\n",
      "The dict with list values after appending :  {'a': [2, 3, 4], 'd': [2, 3, 4], 'b': [2, 3, 4], 'e': [2, 3, 4], 'c': [2, 3, 4]}\n",
      "\n",
      "\n",
      "the  is calling the variable again, mutable property. this will not happen in a normal dict  \n",
      "\n"
     ]
    }
   ],
   "source": [
    "\n",
    "\n",
    "# MUTABLE naure of fromkeys\n",
    " \n",
    "res_dict = dict.fromkeys(seq, lis1)\n",
    " \n",
    "# Printing created dict\n",
    "print(\"The newly created dict with list values : \"\n",
    "      + str(res_dict))\n",
    " \n",
    "# appending to lis1\n",
    "lis1.append(4)\n",
    " \n",
    "print(\"The dict with list values after appending : \", str(res_dict))\n",
    " \n",
    "lis1 = [2, 3]\n",
    "print('\\n')\n",
    "print('the  is calling the variable again, mutable property. this will not happen in a normal dict  \\n')\n"
   ]
  },
  {
   "cell_type": "markdown",
   "metadata": {},
   "source": [
    "Python uses the Tim Sort algorithm for sorting. It’s a stable sorting whose worst case is O(N log N). It’s a hybrid sorting algorithm, derived from merge sort and insertion sort, designed to perform well on many kinds of real-world data."
   ]
  },
  {
   "cell_type": "code",
   "execution_count": null,
   "metadata": {},
   "outputs": [],
   "source": []
  }
 ],
 "metadata": {
  "kernelspec": {
   "display_name": "base",
   "language": "python",
   "name": "python3"
  },
  "language_info": {
   "codemirror_mode": {
    "name": "ipython",
    "version": 3
   },
   "file_extension": ".py",
   "mimetype": "text/x-python",
   "name": "python",
   "nbconvert_exporter": "python",
   "pygments_lexer": "ipython3",
   "version": "3.12.4"
  }
 },
 "nbformat": 4,
 "nbformat_minor": 2
}
